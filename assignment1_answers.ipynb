{
 "cells": [
  {
   "cell_type": "code",
   "execution_count": null,
   "metadata": {},
   "outputs": [],
   "source": [
    "import nbimporter\n",
    "nbimporter.options['only_defs'] = False\n",
    "import numpy as np\n",
    "from copy import deepcopy\n",
    "import random\n",
    "from file_utils import save_pickle, load_pickle\n",
    "from pacman_game import Action, ActionEvent, get_next_game_state_from_action, initialize_gamestate_from_file"
   ]
  },
  {
   "cell_type": "code",
   "execution_count": null,
   "metadata": {},
   "outputs": [],
   "source": [
    "def calculate_reward_for_move(action_event):\n",
    "    if action_event == ActionEvent.DOT:\n",
    "        return 2\n",
    "    elif action_event == ActionEvent.CAPTURED_BY_GHOST:\n",
    "        return -5\n",
    "    elif action_event == ActionEvent.NONE:\n",
    "        return -0.1\n",
    "    elif action_event == ActionEvent.WALL:\n",
    "        return -0.1\n",
    "    elif action_event == ActionEvent.WON:\n",
    "        return 20\n",
    "    elif action_event == ActionEvent.LOST:\n",
    "        return -10\n",
    "    return 0"
   ]
  },
  {
   "cell_type": "code",
   "execution_count": null,
   "metadata": {},
   "outputs": [],
   "source": [
    "q_table = {}"
   ]
  },
  {
   "cell_type": "code",
   "execution_count": null,
   "metadata": {},
   "outputs": [],
   "source": [
    "def pick_optimal_action(state, printing=False):\n",
    "    max_value = max(q_table[state].values())\n",
    "    actions = [key for key in q_table[state] if q_table[state][key] == max_value]\n",
    "\n",
    "    if printing:\n",
    "        print(state)\n",
    "        print(q_table[state])\n",
    "\n",
    "    return random.choice(actions)"
   ]
  },
  {
   "cell_type": "code",
   "execution_count": null,
   "metadata": {},
   "outputs": [],
   "source": [
    "def pick_action(game_state):\n",
    "    exploration_prob = 0.30\n",
    "    \n",
    "    if game_state not in q_table:\n",
    "        q_table[game_state] = {key: 0.0 for key in Action.get_all_actions()}\n",
    "        \n",
    "    if exploration_prob > np.random.rand():\n",
    "        # Explore\n",
    "        return np.random.choice(Action.get_all_actions())\n",
    "    else:\n",
    "        # Exploit\n",
    "        return pick_optimal_action(game_state)"
   ]
  },
  {
   "cell_type": "code",
   "execution_count": null,
   "metadata": {},
   "outputs": [],
   "source": [
    "def compute_max_q_value(state):\n",
    "    if state not in q_table:\n",
    "        q_table[state] = {key: 0.0 for key in Action.get_all_actions()}\n",
    "\n",
    "    return max(q_table[state].values())"
   ]
  },
  {
   "cell_type": "code",
   "execution_count": null,
   "metadata": {},
   "outputs": [],
   "source": [
    "def train(level='level-0', num_episodes=10):\n",
    "    initial_game_state = initialize_gamestate_from_file(level)\n",
    "    discount = 0.8\n",
    "    alpha = 0.2\n",
    "\n",
    "    for i in range(num_episodes):\n",
    "        current_game_state = deepcopy(initial_game_state)\n",
    "        episode_step = 0\n",
    "        episode_done = False\n",
    "        if i % 50 == 0:\n",
    "                print(\"Iteration number\", i)\n",
    "        while not episode_done:\n",
    "            action = pick_action(current_game_state)\n",
    "            new_game_state, action_event = get_next_game_state_from_action(current_game_state, action.name)\n",
    "\n",
    "            if action_event == ActionEvent.WON or action_event == ActionEvent.LOST:\n",
    "                episode_done = True\n",
    "                if action_event == ActionEvent.WON:\n",
    "                    print(\"Won!!\")\n",
    "\n",
    "            reward = calculate_reward_for_move(action_event)\n",
    "\n",
    "            if current_game_state not in q_table:\n",
    "                q_table[current_game_state] = {key: 0.0 for key in Action.get_all_actions()}\n",
    "\n",
    "            q_table[current_game_state][action] = q_table[current_game_state][action] + alpha * (reward + (discount * compute_max_q_value(new_game_state)) - q_table[current_game_state][action])\n",
    "\n",
    "            current_game_state = new_game_state\n",
    "            \n",
    "            episode_step += 1\n",
    "            if episode_step > 500:\n",
    "                break\n",
    "\n",
    "    save_pickle('./q_table', q_table, True)"
   ]
  },
  {
   "cell_type": "code",
   "execution_count": null,
   "metadata": {},
   "outputs": [],
   "source": [
    "train(num_episodes=250)"
   ]
  }
 ],
 "metadata": {
  "kernelspec": {
   "display_name": "Python 3.6 - AzureML",
   "language": "python",
   "name": "python3-azureml"
  },
  "language_info": {
   "codemirror_mode": {
    "name": "ipython",
    "version": 3
   },
   "file_extension": ".py",
   "mimetype": "text/x-python",
   "name": "python",
   "nbconvert_exporter": "python",
   "pygments_lexer": "ipython3",
   "version": "3.6.8"
  }
 },
 "nbformat": 4,
 "nbformat_minor": 2
}
